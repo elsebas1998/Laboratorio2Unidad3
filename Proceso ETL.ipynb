{
 "cells": [
  {
   "cell_type": "code",
   "execution_count": null,
   "id": "b6ea7227",
   "metadata": {},
   "outputs": [],
   "source": [
    "import pandas as pd\n",
    "import sqlalchemy\n",
    "from sqlalchemy import create_engine\n",
    "from sqlalchemy import MetaData\n",
    "from datetime import datetime\n",
    "import psycopg2\n",
    "import pyodbc"
   ]
  },
  {
   "cell_type": "code",
   "execution_count": null,
   "id": "475b20a8",
   "metadata": {},
   "outputs": [],
   "source": [
    "engine = create_engine('sqlite:///chinook.db')\n"
   ]
  },
  {
   "cell_type": "code",
   "execution_count": null,
   "id": "c0ef5c59",
   "metadata": {},
   "outputs": [],
   "source": [
    "engine = create_engine('sqlite:///chinook.db')\n",
    "customers = pd.read_sql_query(\"\"\"SELECT FirstName, LastName, Phone, Fax, Email FROM customers; \"\"\", con=engine.connect())\n",
    "artists = pd.read_sql_query(\"\"\"SELECT Name FROM artists;\"\"\", con=engine.connect())\n",
    "invoice_items = pd.read_sql_query(\"\"\"SELECT UnitPrice, Quantity FROM invoice_items;\"\"\", con=engine.connect())\n",
    "location = pd.read_sql_query(\"\"\"SELECT BillingAddress as Address, BillingCity as City, BillingState as State, BillingCountry as Country,BillingPostalCode as PostalCode from invoices;\"\"\", con=engine.connect())\n",
    "employees = pd.read_sql_query(\"\"\"SELECT FirstName, LastName, Title, BirthDate, HireDate, Address, City, State, Country, PostalCode, Phone, Fax, Email From employees;\"\"\", con=engine.connect())\n",
    "albums = pd.read_sql_query(\"\"\"SELECT Title FROM albums;\"\"\", con=engine.connect()) \n",
    "tracks = pd.read_sql_query(\"\"\"SELECT t.Name, mt.Name AS MediaType, g.Name AS Genre, t.Composer, t.Milliseconds, t.Bytes, t.UnitPrice \n",
    "       FROM tracks t\n",
    "       INNER JOIN\n",
    "       [genres] g ON t.GenreId = g.GenreId\n",
    "       INNER JOIN\n",
    "       media_types mt ON t.MediaTypeId = mt.MediaTypeId \"\"\", con=engine.connect()) \n",
    "fs=pd.read_sql_query(\"\"\"SELECT invoice_items.InvoiceLineId as InvoicesID, customers.CustomerId AS CustomerID, employees.EmployeeId AS EmployeeID, dim_time.timeID AS TimeID,\n",
    "invoices.InvoiceId as LocationID, tracks.TrackId AS TrackId, artists.ArtistId AS ArtistId, albums.AlbumId AS AlbumId, invoices.Total AS Total\n",
    "FROM invoices INNER JOIN customers\n",
    "ON invoices.CustomerId= customers.CustomerId\n",
    "INNER JOIN invoice_items\n",
    "ON invoice_items.InvoiceId= invoices.InvoiceId\n",
    "INNER JOIN tracks\n",
    "ON tracks.TrackId=  invoice_items.TrackId\n",
    "INNER JOIN albums\n",
    "ON tracks.AlbumId= albums.AlbumId\n",
    "INNER JOIN artists \n",
    "ON albums.ArtistId= artists.ArtistId \n",
    "INNER JOIN Dim_Time\n",
    "ON invoices.InvoiceDate= substr(dim_time.date,0,20)\n",
    "INNER JOIN employees\n",
    "ON employees.EmployeeId= customers.SupportRepId;\"\"\", con=engine.connect())"
   ]
  },
  {
   "cell_type": "code",
   "execution_count": null,
   "id": "0e947b79",
   "metadata": {},
   "outputs": [],
   "source": [
    "fecha_I='2009-01-01'\n",
    "fecha_F='2030-12-31'\n",
    "date = pd.DataFrame({'date': pd.date_range(fecha_I, fecha_F)})\n",
    "date['año'] = date.date.dt.year\n",
    "date['mes'] = date.date.dt.month\n",
    "date['dia'] = date.date.dt.day\n",
    "date['nombre_dia'] = date.date.dt.day_name()\n",
    "date['dia_semana'] = date.date.dt.dayofweek\n",
    "date['semana'] = date.date.dt.weekofyear\n",
    "date['trimestre'] = date.date.dt.quarter\n",
    "date = dfdate[['date', 'año', 'mes', 'dia', 'nombre_dia', 'dia_semana', 'semana', 'trimestre']]\n",
    "date.to_sql(name='Dim_Time', con=engine.connect(), if_exists='append',index=False)"
   ]
  },
  {
   "cell_type": "code",
   "execution_count": null,
   "id": "5633cee6",
   "metadata": {},
   "outputs": [],
   "source": [
    "conn = sqlalchemy.create_engine('mssql+pyodbc://localhost/DW_Sales_Music?driver=SQL+Server+Native+Client+11.0')"
   ]
  },
  {
   "cell_type": "code",
   "execution_count": null,
   "id": "0e55423b",
   "metadata": {},
   "outputs": [],
   "source": [
    "albums.to_sql(name='Dim_Album', con=conn, if_exists='append',index=False)\n",
    "artists.to_sql(name='Dim_Artist', con=conn, if_exists='append',index=False)\n",
    "customers.to_sql(name='Dim_Customer', con=conn, if_exists='append',index=False)  \n",
    "invoice_items.to_sql(name='Dim_Invoice_Item', con=conn, if_exists='append',index=False)\n",
    "location.to_sql(name='Dim_Location', con=conn, if_exists='append',index=False)\n",
    "date.to_sql(name='Dim_Time', con=conn, if_exists='append',index=False)\n",
    "tracks.to_sql(name='Dim_Track', con=conn, if_exists='append',index=False)\n",
    "employees.to_sql(name='Dim_Employee', con=conn, if_exists='append',index=False)\n",
    "fs.to_sql(name='Fact_Sales', con=conn, if_exists='append',index=False)"
   ]
  }
 ],
 "metadata": {
  "kernelspec": {
   "display_name": "Python 3 (ipykernel)",
   "language": "python",
   "name": "python3"
  },
  "language_info": {
   "codemirror_mode": {
    "name": "ipython",
    "version": 3
   },
   "file_extension": ".py",
   "mimetype": "text/x-python",
   "name": "python",
   "nbconvert_exporter": "python",
   "pygments_lexer": "ipython3",
   "version": "3.9.7"
  }
 },
 "nbformat": 4,
 "nbformat_minor": 5
}
